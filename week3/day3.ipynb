{
 "cells": [
  {
   "cell_type": "markdown",
   "id": "931c72e1",
   "metadata": {},
   "source": [
    "## Tokenizers"
   ]
  },
  {
   "cell_type": "code",
   "execution_count": null,
   "id": "4e74fffc",
   "metadata": {},
   "outputs": [],
   "source": [
    "from huggingface_hub import login\n",
    "from transformers import AutoTokenizer\n",
    "import os\n",
    "from dotenv import load_dotenv"
   ]
  },
  {
   "cell_type": "code",
   "execution_count": null,
   "id": "11502645",
   "metadata": {},
   "outputs": [],
   "source": [
    "load_dotenv(override=True)\n",
    "hf_token = os.getenv(\"HF_TOKEN\")\n",
    "login(token=hf_token)"
   ]
  },
  {
   "cell_type": "markdown",
   "id": "2095eead",
   "metadata": {},
   "source": [
    "## Acccessing llama 3.1 from meta"
   ]
  },
  {
   "cell_type": "code",
   "execution_count": null,
   "id": "cc15e261",
   "metadata": {},
   "outputs": [],
   "source": [
    "model='meta-llama/Meta-llama-3.1-8b'\n",
    "tokenizer = AutoTokenizer.from_pretrained(model, trust_remote_code=True)"
   ]
  },
  {
   "cell_type": "code",
   "execution_count": null,
   "id": "535a6d17",
   "metadata": {},
   "outputs": [],
   "source": [
    "text = \"I am excited to show tokenizers in action to my llm engineers\"\n",
    "tokens = tokenizer.encode(text)\n",
    "tokens"
   ]
  },
  {
   "cell_type": "code",
   "execution_count": null,
   "id": "d51c81cc",
   "metadata": {},
   "outputs": [],
   "source": [
    "len(tokens)"
   ]
  },
  {
   "cell_type": "code",
   "execution_count": null,
   "id": "9e2a9175",
   "metadata": {},
   "outputs": [],
   "source": [
    "tokenizer.decode(tokens)"
   ]
  },
  {
   "cell_type": "code",
   "execution_count": null,
   "id": "9977df4d",
   "metadata": {},
   "outputs": [],
   "source": [
    "tokenizer.batch_decode(tokens)"
   ]
  },
  {
   "cell_type": "code",
   "execution_count": null,
   "id": "1fcf5f66",
   "metadata": {},
   "outputs": [],
   "source": [
    "# Get the vocabulary that was added to the tokenizer (tokens not present in the original pretrained model)\n",
    "added_vocab = tokenizer.get_added_vocab()\n",
    "print(\"Added vocabulary:\", added_vocab)\n",
    "# Explanation:\n",
    "# The get_added_vocab() method returns a dictionary of tokens that were added to the tokenizer after it was loaded or created.\n",
    "# This is useful when you've customized the tokenizer with new special tokens, domain-specific words, or other additions."
   ]
  },
  {
   "cell_type": "markdown",
   "id": "ba1732d9",
   "metadata": {},
   "source": [
    "## Instruct variants of models"
   ]
  },
  {
   "cell_type": "code",
   "execution_count": null,
   "id": "0d17fb52",
   "metadata": {},
   "outputs": [],
   "source": [
    "model = 'meta-llama/Meta-Llama-3.1-8b-Instruct'\n",
    "tokenizer = AutoTokenizer.from_pretrained(model, trust_remote_code=True)"
   ]
  },
  {
   "cell_type": "code",
   "execution_count": null,
   "id": "bec8eff5",
   "metadata": {},
   "outputs": [],
   "source": [
    "messages = [\n",
    "    {\"role\": \"system\", \"content\":\"You are a helpful assistant\"},\n",
    "    {\"role\": \"user\", \"content\": \"Tell a light-hearted joke for a room of Data Scientist\"}\n",
    "]\n",
    "\n",
    "prompt = tokenizer.apply_chat_template(messages, tokenize=False, add_generation_prompt=True)\n",
    "print(prompt)"
   ]
  },
  {
   "cell_type": "markdown",
   "id": "c2b8f8f5",
   "metadata": {},
   "source": [
    "## Trying new models"
   ]
  },
  {
   "cell_type": "code",
   "execution_count": null,
   "id": "d6984205",
   "metadata": {},
   "outputs": [],
   "source": [
    "PHI3_MODEL_NAME=\"microsoft/Phi-3-mini-4k-instruct\"\n",
    "QWEN2_MODEL_NAME=\"Qwen/Qwen2-7B-Instruct\"\n",
    "STARCODER2_MODEL_NAME= \"bigcode/starcoder2-3b\""
   ]
  },
  {
   "cell_type": "code",
   "execution_count": null,
   "id": "2c733220",
   "metadata": {},
   "outputs": [],
   "source": [
    "phi3_tokenizer = AutoTokenizer.from_pretrained(PHI3_MODEL_NAME)\n",
    "\n",
    "text = \"I am excited to show Tokenizers in action to my llm engineers\"\n",
    "print(tokenizer.encode(text))\n",
    "print()\n",
    "tokens = phi3_tokenizer.encode(text)\n",
    "print(phi3_tokenizer.batch_decode(tokens))"
   ]
  },
  {
   "cell_type": "code",
   "execution_count": null,
   "id": "ddf10263",
   "metadata": {},
   "outputs": [],
   "source": [
    "print(tokenizer.apply_chat_template(messages, tokeinize=False, add_generation_prompt=True))\n",
    "print()\n",
    "print(phi3_tokenizer.apply_chat_template(messages, tokenize=False, add_generation_prompt=True))"
   ]
  },
  {
   "cell_type": "code",
   "execution_count": null,
   "id": "ca012e9e",
   "metadata": {},
   "outputs": [],
   "source": [
    "qwen2_tokenizer = AutoTokenizer.from_pretrained(QWEN2_MODEL_NAME)\n",
    "\n",
    "text = \"I am excited to show Tokenizers in action to my LLM engineers\"\n",
    "print(tokenizer.encode(text))\n",
    "print()\n",
    "print(phi3_tokenizer.encode(text))\n",
    "print()\n",
    "print(qwen2_tokenizer.encode(text))\n"
   ]
  },
  {
   "cell_type": "code",
   "execution_count": null,
   "id": "70552588",
   "metadata": {},
   "outputs": [],
   "source": [
    "print(tokenizer.apply_chat_template(messages, tokenize=False, add_generation_prompt=True))\n",
    "print()\n",
    "print(phi3_tokenizer.apply_chat_template(messages, tokenize=False, add_generation_prompt=True))\n",
    "print()\n",
    "print(qwen2_tokenizer.apply_chat_template(messages, tokenize=False, add_generation_prompt=True))"
   ]
  },
  {
   "cell_type": "code",
   "execution_count": null,
   "id": "353f54a6",
   "metadata": {},
   "outputs": [],
   "source": [
    "starcoder2_tokenizer = AutoTokenizer.from_pretrained(STARCODER2_MODEL_NAME, trust_remote_code=True)\n",
    "code = \"\"\"\n",
    "def hello_world(person):\n",
    "  print(\"Hello\", person)\n",
    "\"\"\"\n",
    "tokens = starcoder2_tokenizer.encode(code)\n",
    "for token in tokens:\n",
    "  print(f\"{token}={starcoder2_tokenizer.decode(token)}\")"
   ]
  },
  {
   "cell_type": "code",
   "execution_count": null,
   "id": "e429d686",
   "metadata": {},
   "outputs": [],
   "source": []
  }
 ],
 "metadata": {
  "kernelspec": {
   "display_name": ".venv",
   "language": "python",
   "name": "python3"
  },
  "language_info": {
   "codemirror_mode": {
    "name": "ipython",
    "version": 3
   },
   "file_extension": ".py",
   "mimetype": "text/x-python",
   "name": "python",
   "nbconvert_exporter": "python",
   "pygments_lexer": "ipython3",
   "version": "3.13.3"
  }
 },
 "nbformat": 4,
 "nbformat_minor": 5
}
