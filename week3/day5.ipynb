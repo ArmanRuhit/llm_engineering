{
 "cells": [
  {
   "cell_type": "markdown",
   "id": "99156963",
   "metadata": {},
   "source": [
    "## Create meeting minutes from an Audio file"
   ]
  },
  {
   "cell_type": "code",
   "execution_count": null,
   "id": "8982db93",
   "metadata": {},
   "outputs": [],
   "source": [
    "import os\n",
    "import requests\n",
    "from IPython.display import Markdown, display, update_display\n",
    "from huggingface_hub import login\n",
    "from transformers import AutoTokenizer, AutoModelForCausalLM, TextStreamer, BitsAndBytesConfig\n",
    "import torch\n",
    "from dotenv import load_dotenv\n",
    "from faster_whisper import WhisperModel"
   ]
  },
  {
   "cell_type": "code",
   "execution_count": null,
   "id": "f2ea5654",
   "metadata": {},
   "outputs": [],
   "source": [
    "AUDIO_MODEL=\"whisper-1\"\n",
    "LLAMA=\"meta-llama/Meta-Llama-3.1-8B-Instruct\"\n",
    "audio_filename=\"./denver_extract.mp3\""
   ]
  },
  {
   "cell_type": "code",
   "execution_count": null,
   "id": "0ca666cd",
   "metadata": {},
   "outputs": [],
   "source": [
    "load_dotenv(override=True)\n",
    "hf_token=os.getenv('HF_TOKEN')\n",
    "login(token=hf_token)"
   ]
  },
  {
   "cell_type": "code",
   "execution_count": null,
   "id": "b227698d",
   "metadata": {},
   "outputs": [],
   "source": [
    "def transcribe_audio(path, model_size=\"small\"):\n",
    "    model = WhisperModel(\n",
    "        model_size,\n",
    "        device=\"cuda\" if torch.cuda.is_available() else \"cpu\",\n",
    "        compute_type=\"float16\"\n",
    "    )\n",
    "    segments, info = model.transcribe(path)\n",
    "    return \" \".join(segment.text for segment in segments)"
   ]
  },
  {
   "cell_type": "code",
   "execution_count": null,
   "id": "6251c139",
   "metadata": {},
   "outputs": [],
   "source": [
    "transcripts = transcribe_audio(audio_filename)\n",
    "print(transcripts)"
   ]
  },
  {
   "cell_type": "code",
   "execution_count": null,
   "id": "a5ada54f",
   "metadata": {},
   "outputs": [],
   "source": [
    "system_message= \"You are an assistant that produces minutes of meetings from transcripts, with summary, key discussion points, takeaways and action items with owners, in markdown, including a summary with attendees, location and date; discussion points; takeaways; and action items with owners, in markdown.\"\n",
    "\n",
    "user_prompt = f\"Below is an extract transcript of a denver council meeting. Please write minutes in markdown, including a summary with attendees, location and date; discussion points; takeaways; and action items with owners.\\n{transcripts}\"\n",
    "\n",
    "messages = [\n",
    "    {\"role\": \"system\", \"content\": system_message},\n",
    "    {\"role\": \"user\", \"content\": user_prompt}\n",
    "]"
   ]
  },
  {
   "cell_type": "code",
   "execution_count": null,
   "id": "cbacc4cb",
   "metadata": {},
   "outputs": [],
   "source": [
    "quant_config = BitsAndBytesConfig(\n",
    "    load_in_4bit=True,\n",
    "    bnb_4bit_use_double_quant=True,\n",
    "    bnb_4bit_compute_dtype=torch.bfloat16,\n",
    "    bnb_4bit_quant_type=\"nf4\"\n",
    ")"
   ]
  },
  {
   "cell_type": "code",
   "execution_count": null,
   "id": "05051629",
   "metadata": {},
   "outputs": [],
   "source": [
    "tokenizer = AutoTokenizer.from_pretrained(LLAMA)\n",
    "tokenizer.pad_token = tokenizer.eos_token\n",
    "inputs = tokenizer.apply_chat_template(messages, return_tensors=\"pt\", add_generation_prompt=True, padding=True, return_attention_mask=True).to(\"cuda\")\n",
    "streamer = TextStreamer(tokenizer, skip_prompt=True)\n",
    "model = AutoModelForCausalLM.from_pretrained(LLAMA, device_map=\"cuda\", quantization_config=quant_config)\n",
    "attention_mask = (inputs != tokenizer.pad_token_id).int().to(\"cuda\")\n",
    "outputs=model.generate(inputs, max_new_tokens=2000, streamer=streamer, attention_mask=attention_mask, pad_token_id=tokenizer.pad_token_id,eos_token_id=tokenizer.eos_token_id)"
   ]
  },
  {
   "cell_type": "code",
   "execution_count": null,
   "id": "ba823a14",
   "metadata": {},
   "outputs": [],
   "source": [
    "response = tokenizer.decode(outputs[0])"
   ]
  },
  {
   "cell_type": "code",
   "execution_count": null,
   "id": "0d1fe113",
   "metadata": {},
   "outputs": [],
   "source": [
    "display(Markdown(response))"
   ]
  },
  {
   "cell_type": "code",
   "execution_count": null,
   "id": "ba3bc3e9",
   "metadata": {},
   "outputs": [],
   "source": [
    "from transformers import AutoModelForSpeechSeq2Seq, AutoProcessor, pipeline\n",
    "\n",
    "# Alternative implementation\n",
    "AUDIO_MODEL = \"openai/whisper-small\"\n",
    "speech_model = AutoModelForSpeechSeq2Seq.from_pretrained(AUDIO_MODEL, torch_dtype=torch.float16, low_cpu_mem_usage=True, use_safetensors=True)\n",
    "speech_model.to('cuda')\n",
    "processor = AutoProcessor.from_pretrained(AUDIO_MODEL)\n",
    "\n",
    "pipe = pipeline(\n",
    "    \"automatic-speech-recognition\",\n",
    "    model=speech_model,\n",
    "    tokenizer=processor.tokenizer,\n",
    "    feature_extractor=processor.feature_extractor,\n",
    "    torch_dtype=torch.float16,\n",
    "    device='cuda',\n",
    ")"
   ]
  },
  {
   "cell_type": "code",
   "execution_count": null,
   "id": "ff6724e1",
   "metadata": {},
   "outputs": [],
   "source": [
    "result = pipe(audio_filename)"
   ]
  },
  {
   "cell_type": "code",
   "execution_count": null,
   "id": "2f135c18",
   "metadata": {},
   "outputs": [],
   "source": [
    "transcription = result[\"text\"]\n",
    "print(transcription)"
   ]
  },
  {
   "cell_type": "code",
   "execution_count": null,
   "id": "348033da",
   "metadata": {},
   "outputs": [],
   "source": []
  }
 ],
 "metadata": {
  "kernelspec": {
   "display_name": ".venv",
   "language": "python",
   "name": "python3"
  },
  "language_info": {
   "codemirror_mode": {
    "name": "ipython",
    "version": 3
   },
   "file_extension": ".py",
   "mimetype": "text/x-python",
   "name": "python",
   "nbconvert_exporter": "python",
   "pygments_lexer": "ipython3",
   "version": "3.13.3"
  }
 },
 "nbformat": 4,
 "nbformat_minor": 5
}
