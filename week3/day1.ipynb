{
 "cells": [
  {
   "cell_type": "code",
   "execution_count": null,
   "id": "8285ba6ead2657df",
   "metadata": {
    "ExecuteTime": {
     "end_time": "2025-04-21T17:45:40.136992Z",
     "start_time": "2025-04-21T17:45:40.119090Z"
    }
   },
   "outputs": [],
   "source": [
    "import os\n",
    "import requests\n",
    "from dotenv import load_dotenv\n",
    "from huggingface_hub import login"
   ]
  },
  {
   "cell_type": "code",
   "execution_count": null,
   "id": "eb9c92b7e579bc60",
   "metadata": {
    "ExecuteTime": {
     "end_time": "2025-04-21T17:45:40.919691Z",
     "start_time": "2025-04-21T17:45:40.628191Z"
    }
   },
   "outputs": [],
   "source": [
    "load_dotenv(override=True)\n",
    "hf_token = os.getenv('HF_TOKEN')\n",
    "login(token=hf_token)\n",
    "os.environ[\"XFORMERS_DISABLE_TRITON\"] = \"1\""
   ]
  },
  {
   "cell_type": "markdown",
   "id": "8c435d5b8f9871da",
   "metadata": {},
   "source": [
    "## Will only work on powerful GPUs"
   ]
  },
  {
   "cell_type": "code",
   "execution_count": null,
   "id": "e9f675b4eb6d56b8",
   "metadata": {
    "ExecuteTime": {
     "end_time": "2025-04-21T17:45:44.160375Z",
     "start_time": "2025-04-21T17:45:42.210008Z"
    }
   },
   "outputs": [],
   "source": [
    "# import torch\n",
    "# from diffusers import FluxPipeline\n",
    "#\n",
    "# FLUX_MODEL =\"black-forest-labs/FLUX.1-schnell\"\n",
    "#\n",
    "# pipe = FluxPipeline.from_pretrained(FLUX_MODEL, torch_dtype=torch.bfloat16).to(\"cuda\")\n",
    "#\n",
    "# generator = torch.Generator(device=\"cuda\").manual_seed(0)\n",
    "# prompt = \"A futuristic class full of students learning AI coding in the surreal style of Salvador Dali\"\n",
    "# image = pipe(\n",
    "#     prompt,\n",
    "#     guidance_scale=0.0,\n",
    "#     num_inference_steps=3,\n",
    "#     max_sequence_length=256,\n",
    "#     generator=generator,\n",
    "# ).images[0]\n",
    "#\n",
    "# image.save(\"surreal.png\")"
   ]
  },
  {
   "cell_type": "code",
   "execution_count": null,
   "id": "aeb08fc6bef3a6a1",
   "metadata": {
    "ExecuteTime": {
     "end_time": "2025-03-26T14:49:01.659012Z",
     "start_time": "2025-03-26T14:49:01.656721Z"
    }
   },
   "outputs": [],
   "source": [
    "# Import required libraries\n",
    "from transformers import pipeline  # Hugging Face's transformers library for pre-trained models\n",
    "from datasets import load_dataset  # For loading voice embedding datasets\n",
    "import soundfile as sf  # For saving audio files\n",
    "import torch  # PyTorch for tensor operations"
   ]
  },
  {
   "cell_type": "code",
   "execution_count": null,
   "id": "cd28a0054516a268",
   "metadata": {
    "ExecuteTime": {
     "end_time": "2025-03-26T15:38:15.211662Z",
     "start_time": "2025-03-26T15:38:03.268214Z"
    }
   },
   "outputs": [],
   "source": [
    "# Define constants for model and voice embeddings\n",
    "TTS_MODEL = \"microsoft/speecht5_tts\"  # Microsoft's SpeechT5 text-to-speech model\n",
    "EMBEDDING_DATASET = \"Matthijs/cmu-arctic-xvectors\"  # Dataset containing speaker voice embeddings\n",
    "\n",
    "# Initialize the text-to-speech pipeline with CUDA acceleration\n",
    "synthesiser = pipeline(\n",
    "    task=\"text-to-speech\",\n",
    "    model=TTS_MODEL,\n",
    "    device='cuda' if torch.cuda.is_available() else 'cpu'  # Use GPU if available\n",
    ")\n",
    "\n",
    "# Load the voice embeddings dataset and select a specific speaker\n",
    "embeddings_dataset = load_dataset(EMBEDDING_DATASET)\n",
    "print(embeddings_dataset.keys())  # Output: ['validation']\n",
    "speaker_embedding = torch.tensor(embeddings_dataset['validation'][7306][\"xvector\"]).unsqueeze(0)\n",
    "# unsqueeze(0) adds a batch dimension required by the model\n",
    "\n",
    "# Generate speech with custom parameters\n",
    "speech = synthesiser(\n",
    "    text_inputs=\"Hi to an artificial intelligence engineer on the way to mastery!\",  # Input text\n",
    "    forward_params={\n",
    "        \"speaker_embeddings\": speaker_embedding  # Inject specific speaker characteristics\n",
    "    }\n",
    ")\n",
    "\n",
    "# Save the generated audio to file\n",
    "sf.write(\n",
    "    file=\"speech.wav\",\n",
    "    data=speech[\"audio\"],  # Audio data array\n",
    "    samplerate=speech[\"sampling_rate\"]  # Preserve original sample rate (usually 16kHz)\n",
    ")"
   ]
  },
  {
   "cell_type": "code",
   "execution_count": null,
   "id": "5b106c65c0c18565",
   "metadata": {
    "ExecuteTime": {
     "end_time": "2025-04-21T17:48:15.021255Z",
     "start_time": "2025-04-21T17:48:14.923470Z"
    }
   },
   "outputs": [],
   "source": [
    "from IPython.display import Audio\n",
    "\n",
    "# Play the generated audio\n",
    "Audio(\"speech.wav\")"
   ]
  },
  {
   "cell_type": "markdown",
   "id": "1a1bcd0723361f09",
   "metadata": {},
   "source": [
    "## low resource intensive image generation model"
   ]
  },
  {
   "cell_type": "code",
   "execution_count": null,
   "id": "554597f518c0ade8",
   "metadata": {
    "ExecuteTime": {
     "end_time": "2025-04-21T17:54:27.034923Z",
     "start_time": "2025-04-21T17:54:12.410557Z"
    }
   },
   "outputs": [],
   "source": [
    "import torch\n",
    "import os\n",
    "from diffusers import StableDiffusionPipeline\n",
    "os.environ[\"XFORMERS_DISABLE_TRITON\"] = \"1\"\n",
    "model_id = \"OFA-Sys/small-stable-diffusion-v0\"\n",
    "pipe = StableDiffusionPipeline.from_pretrained(model_id, torch_dtype=torch.float16).to(\"cuda\")\n",
    "pipe.enable_model_cpu_offload()\n",
    "\n",
    "prompt = \"A delicious burger\"\n",
    "\n",
    "image = pipe(prompt).images[0]"
   ]
  },
  {
   "cell_type": "code",
   "execution_count": null,
   "id": "bc6af1481a9e3880",
   "metadata": {
    "ExecuteTime": {
     "end_time": "2025-04-21T17:54:27.068019Z",
     "start_time": "2025-04-21T17:54:27.044607Z"
    }
   },
   "outputs": [],
   "source": [
    "display(image)"
   ]
  },
  {
   "cell_type": "code",
   "execution_count": null,
   "id": "dbb4e8e91dc44614",
   "metadata": {},
   "outputs": [],
   "source": []
  }
 ],
 "metadata": {
  "kernelspec": {
   "display_name": "Python 3",
   "language": "python",
   "name": "python3"
  },
  "language_info": {
   "codemirror_mode": {
    "name": "ipython",
    "version": 2
   },
   "file_extension": ".py",
   "mimetype": "text/x-python",
   "name": "python",
   "nbconvert_exporter": "python",
   "pygments_lexer": "ipython2",
   "version": "2.7.6"
  }
 },
 "nbformat": 4,
 "nbformat_minor": 5
}
