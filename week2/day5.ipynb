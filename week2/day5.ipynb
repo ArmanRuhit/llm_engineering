{
 "cells": [
  {
   "cell_type": "code",
   "id": "initial_id",
   "metadata": {
    "collapsed": true
   },
   "source": [
    "import os\n",
    "import json\n",
    "from platform import system\n",
    "\n",
    "import ollama\n",
    "import gradio as gr\n",
    "from Tools.scripts.dutree import display\n",
    "\n"
   ],
   "outputs": [],
   "execution_count": null
  },
  {
   "metadata": {},
   "cell_type": "code",
   "source": "MODEL='llama3.2:latest'",
   "id": "ac5e23a38e53fbf8",
   "outputs": [],
   "execution_count": null
  },
  {
   "metadata": {},
   "cell_type": "code",
   "source": "system_message = \"You are a helpful assistant for an Airline called FlightAI. Give short, courteous answers, no more than 1 sentence. Always be accurate. If you don't know the answer, say so.\"",
   "id": "3b7c54c972d94e08",
   "outputs": [],
   "execution_count": null
  },
  {
   "metadata": {},
   "cell_type": "code",
   "source": [
    "def chat(message, history):\n",
    "    messages = [{\"role\": \"system\", \"content\": system_message}] + history + [{\"role\": \"user\", \"content\": message}]\n",
    "    response = ollama.chat(model=MODEL, messages=messages)\n",
    "    return response.message.content"
   ],
   "id": "6a89650fded62235",
   "outputs": [],
   "execution_count": null
  },
  {
   "metadata": {},
   "cell_type": "code",
   "source": "gr.ChatInterface(fn=chat, type=\"messages\").launch()",
   "id": "22dda9799001ccf0",
   "outputs": [],
   "execution_count": null
  },
  {
   "metadata": {},
   "cell_type": "code",
   "source": [
    "ticket_prices = {\"london\": \"$799\", \"paris\": \"$899\", \"tokyo\": \"$1400\", \"berlin\": \"$499\"}\n",
    "\n",
    "def get_ticket_price(destination_city):\n",
    "    print(f\"Tool get_ticket_price called for {destination_city}\")\n",
    "    city = destination_city.lower()\n",
    "    return ticket_prices.get(city, \"Unknown\")"
   ],
   "id": "f5ca321384da925a",
   "outputs": [],
   "execution_count": null
  },
  {
   "metadata": {},
   "cell_type": "code",
   "source": "get_ticket_price(\"London\")",
   "id": "30fe8052b1b2eda8",
   "outputs": [],
   "execution_count": null
  },
  {
   "metadata": {},
   "cell_type": "code",
   "source": [
    "price_function = {\n",
    "    \"name\": \"get_ticket_price\",\n",
    "    \"description\": \"Get the price of a return ticket to the destination city. Call this whenever you need to know the ticket price, for example when a customer asks 'How much is a ticket to this city'\",\n",
    "    \"parameters\": {\n",
    "        \"type\": \"object\",\n",
    "        \"properties\": {\n",
    "            \"destination_city\": {\n",
    "                \"type\": \"string\",\n",
    "                \"description\": \"The city that the customer wants to travel to\",\n",
    "            },\n",
    "        },\n",
    "        \"required\": [\"destination_city\"],\n",
    "        \"additionalProperties\": False\n",
    "    }\n",
    "}"
   ],
   "id": "9c69187cf90ad5d7",
   "outputs": [],
   "execution_count": null
  },
  {
   "metadata": {},
   "cell_type": "code",
   "source": "tools = [{\"type\": \"function\", \"function\": price_function}]",
   "id": "490c4c816b76f320",
   "outputs": [],
   "execution_count": null
  },
  {
   "metadata": {},
   "cell_type": "code",
   "source": [
    "def chat(message, history):\n",
    "    messages = [\n",
    "        {\"role\": \"system\", \"content\": system_message}\n",
    "    ] + history + [\n",
    "        {\"role\": \"user\", \"content\": message}\n",
    "    ]\n",
    "    response = ollama.chat(\n",
    "        model=MODEL, messages=messages, tools=tools\n",
    "    )\n",
    "\n",
    "    if response.get(\"done_reason\") == \"stop\":\n",
    "        tool_call_message = response[\"message\"]\n",
    "        tool_response, city = handle_tool_call(tool_call_message)\n",
    "        messages.append(tool_call_message)\n",
    "        messages.append(tool_response)\n",
    "        response = ollama.chat(\n",
    "            model=MODEL, messages=messages\n",
    "        )\n",
    "    return response.message.content"
   ],
   "id": "e45f03b8e50fd641",
   "outputs": [],
   "execution_count": null
  },
  {
   "metadata": {},
   "cell_type": "code",
   "source": [
    "def handle_tool_call(message):\n",
    "    tool_call = message.tool_calls[0]\n",
    "    arguments = tool_call.function.arguments\n",
    "    city = arguments.get('destination_city')\n",
    "    price = get_ticket_price(city)\n",
    "    response = {\n",
    "        \"role\": \"tool\",\n",
    "        \"content\": json.dumps({\n",
    "            \"destination_city\": city,\n",
    "            \"price\": price\n",
    "        }),\n",
    "    }\n",
    "\n",
    "    return response, city"
   ],
   "id": "5615ab705640326c",
   "outputs": [],
   "execution_count": null
  },
  {
   "metadata": {},
   "cell_type": "code",
   "source": "gr.ChatInterface(fn=chat, type=\"messages\").launch()",
   "id": "a32a8de057c2b68d",
   "outputs": [],
   "execution_count": null
  },
  {
   "metadata": {},
   "cell_type": "markdown",
   "source": "## let's go multi-modal",
   "id": "8cbd6090f77cfe2c"
  },
  {
   "metadata": {},
   "cell_type": "code",
   "source": [
    "from PIL import Image\n",
    "import torch\n",
    "from diffusers import StableDiffusionPipeline\n",
    "import base64\n",
    "from io import BytesIO\n",
    "from IPython.display import display\n",
    "from diffusers import AutoPipelineForText2Image"
   ],
   "id": "f403105ed1142fa1",
   "outputs": [],
   "execution_count": null
  },
  {
   "metadata": {},
   "cell_type": "code",
   "source": [
    "IMAGE_MODEL = \"stabilityai/stable-diffusion-xl-base-1.0\"\n",
    "def artist(city):\n",
    "    # Initialize the Stable Diffusion pipeline for image generation\n",
    "    pipe = AutoPipelineForText2Image.from_pretrained(\n",
    "        IMAGE_MODEL,  # Specify the model to use (e.g., \"stabilityai/stable-diffusion-xl-base-1.0\")\n",
    "        torch_dtype=torch.float16,  # Use half-precision (float16) for faster computation and reduced memory usage\n",
    "        use_safetensors=True,  # Use the safer `.safetensors` format for loading model weights\n",
    "        variant=\"fp16\",  # Specify the variant of the model optimized for float16 precision\n",
    "    ).to(\"cuda\")  # Move the pipeline to the GPU for faster computation\n",
    "\n",
    "    # Enable CPU offloading for faster image generation\n",
    "    pipe.enable_model_cpu_offload()\n",
    "    pipe.enable_xformers_memory_efficient_attention() # Enable memory-efficient attention for faster computation and reduced memory usage\n",
    "\n",
    "    prompt = f\"A vibrant pop-art style illustration of {city} vacation, highlighting famous tourists attractions and unique cultural elements, bold colors, comic book aesthetic, high contrast, and dynamic composition.\"\n",
    "\n",
    "    # Generate an image using the Stable Diffusion XL pipeline\n",
    "    image = pipe(\n",
    "        prompt=prompt,\n",
    "    ).images[0] # Extract the first image from the output list\n",
    "\n",
    "    return image"
   ],
   "id": "8651ea4d34428c09",
   "outputs": [],
   "execution_count": null
  },
  {
   "metadata": {},
   "cell_type": "code",
   "source": [
    "image = artist(\"Paris\")\n",
    "display(image)"
   ],
   "id": "d8c2dcafdf0facac",
   "outputs": [],
   "execution_count": null
  },
  {
   "metadata": {},
   "cell_type": "code",
   "source": "",
   "id": "4fb5eb143a9d902f",
   "outputs": [],
   "execution_count": null
  },
  {
   "metadata": {},
   "cell_type": "code",
   "source": "",
   "id": "9f5c16ec7f207875",
   "outputs": [],
   "execution_count": null
  },
  {
   "metadata": {},
   "cell_type": "code",
   "source": "",
   "id": "fe27ed88da9e30ec",
   "outputs": [],
   "execution_count": null
  }
 ],
 "metadata": {
  "kernelspec": {
   "display_name": "Python 3",
   "language": "python",
   "name": "python3"
  },
  "language_info": {
   "codemirror_mode": {
    "name": "ipython",
    "version": 2
   },
   "file_extension": ".py",
   "mimetype": "text/x-python",
   "name": "python",
   "nbconvert_exporter": "python",
   "pygments_lexer": "ipython2",
   "version": "2.7.6"
  }
 },
 "nbformat": 4,
 "nbformat_minor": 5
}
