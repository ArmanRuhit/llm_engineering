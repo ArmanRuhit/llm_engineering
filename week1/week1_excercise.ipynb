{
 "cells": [
  {
   "cell_type": "code",
   "execution_count": 3,
   "metadata": {},
   "outputs": [
    {
     "name": "stdout",
     "output_type": "stream",
     "text": [
      "This line of code is using a feature of Python called \"yield from\" to iterate over the authors of books in a list.\n",
      "\n",
      "Here's a breakdown:\n",
      "\n",
      "- `yield from`: This keyword allows you to yield values from another generator (or iterator) without having to explicitly call its `next()` method. It's like saying \"yield these values for me\".\n",
      "\n",
      "- `{book.get(\"author\") for book in books if book.get(\"author\")}`: This is a generator expression, which means it generates values on-the-fly rather than storing them all at once.\n",
      "\n",
      "  - `for book in books`: Loops over each item (`book`) in the list of books.\n",
      "  \n",
      "  - `if book.get(\"author\")`: Filters out any items that don't have an \"author\" key (i.e., items where `book.get(\"author\")` returns `None`).\n",
      "  \n",
      "  - `book.get(\"author\")`: Retrieves the value associated with the key `\"author\"` in each book, which is presumably a string.\n",
      "\n",
      "So, putting it all together, this line of code yields the author names of books that have an \"author\" key present. \n",
      "\n",
      "However, without more context about how `books` and `book` are defined, it's hard to give a more specific explanation. \n",
      "\n",
      "It seems like these lines might be part of some sort of data processing or filtering pipeline, perhaps in a larger application where you're working with books or documents that have authors. In this case, the goal is probably to extract just the author names from these documents without actually loading all of their content.\n",
      "\n",
      "Here's an example using a fictional book class and a list of books:\n",
      "```python\n",
      "class Book:\n",
      "    def __init__(self, title, author):\n",
      "        self.title = title\n",
      "        self.author = author\n",
      "\n",
      "books = [\n",
      "    {\"title\": \"Book 1\", \"author\": \"Author 1\"},\n",
      "    {\"title\": \"Book 2\", },\n",
      "    {\"title\": \"Book 3\", \"author\": \"Author 3\"}\n",
      "]\n",
      "\n",
      "for author in yield from {book.get(\"author\") for book in books if book.get(\"author\")}:\n",
      "    print(author)\n",
      "```\n",
      "\n",
      "When you run this code, it will print `Author 1`, `Author 3`. The `yield from` expression allows the `print` statement to be called with each yielded author name without having to explicitly call `next()` on the generator.\n"
     ]
    }
   ],
   "source": [
    "import ollama\n",
    "MODEL = \"llama3.2:latest\"\n",
    "ollama.pull(MODEL)\n",
    "\n",
    "question = \"\"\"\n",
    "Please explain what this code does and why:\n",
    "yield from {book.get(\"author\") for book in books if book.get(\"author\")}\n",
    "\"\"\"\n",
    "\n",
    "print(ollama.chat(model=MODEL, messages=[\n",
    "    {\"role\": \"user\", \"content\": question}\n",
    "]).message.content)"
   ]
  },
  {
   "cell_type": "code",
   "execution_count": null,
   "metadata": {},
   "outputs": [],
   "source": []
  }
 ],
 "metadata": {
  "kernelspec": {
   "display_name": "llms",
   "language": "python",
   "name": "python3"
  },
  "language_info": {
   "codemirror_mode": {
    "name": "ipython",
    "version": 3
   },
   "file_extension": ".py",
   "mimetype": "text/x-python",
   "name": "python",
   "nbconvert_exporter": "python",
   "pygments_lexer": "ipython3",
   "version": "3.11.5"
  }
 },
 "nbformat": 4,
 "nbformat_minor": 2
}
