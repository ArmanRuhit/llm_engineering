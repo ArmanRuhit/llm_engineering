{
 "cells": [
  {
   "cell_type": "code",
   "execution_count": null,
   "metadata": {},
   "outputs": [],
   "source": [
    "fruits = [\"Apples\", \"Bananas\", \"Pears\"]\n",
    "\n",
    "book1 = {\"title\": \"Great Expectation\", \"author\": \"Charles Dickens\"}\n",
    "book2 = {\"title\": \"Bleak House\", \"author\": \"Charles Dickens\"}\n",
    "book3 = {\"title\": \"An Book By No Author\"}\n",
    "book4 = {\"title\": \"Moby Dick\", \"author\": \"Herman Melville\"}\n",
    "\n",
    "books = [book1, book2, book3, book4]"
   ]
  },
  {
   "cell_type": "code",
   "execution_count": null,
   "metadata": {},
   "outputs": [],
   "source": []
  }
 ],
 "metadata": {
  "language_info": {
   "name": "python"
  }
 },
 "nbformat": 4,
 "nbformat_minor": 2
}
