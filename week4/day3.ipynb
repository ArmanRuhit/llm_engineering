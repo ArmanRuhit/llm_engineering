{
 "cells": [
  {
   "cell_type": "code",
   "execution_count": null,
   "id": "26c05030",
   "metadata": {},
   "outputs": [],
   "source": [
    "import os\n",
    "import requests\n",
    "from dotenv import load_dotenv\n",
    "from huggingface_hub import login\n",
    "from transformers.utils.quantization_config import BitsAndBytesConfig\n",
    "from transformers.models.auto.modeling_auto import AutoModelForCausalLM\n",
    "from transformers.models.auto.tokenization_auto import AutoTokenizer\n",
    "import gc\n",
    "import torch\n"
   ]
  },
  {
   "cell_type": "code",
   "execution_count": null,
   "id": "5be6c9b4",
   "metadata": {},
   "outputs": [],
   "source": [
    "load_dotenv(override=True)\n",
    "hf_token = os.getenv('HF_TOKEN')\n",
    "login(token=hf_token)"
   ]
  },
  {
   "cell_type": "code",
   "execution_count": null,
   "id": "9d8c76a9",
   "metadata": {},
   "outputs": [],
   "source": [
    "# model_name = 'cosmo3769/starcoderbase-1b-GGUF'\n",
    "model_name = 'bigcode/starcoder2-3b'\n",
    "system_message = \"You are an assistant that reimplements Python code in high performance C++ for a windows machine. \"\n",
    "system_message += \"Respond only with C++ code; use comments sparingly and do not provide any explanations other than occassional comments. \"\n",
    "system_message += \"The C++ response needs to production an identical output in the fastest possible time.\""
   ]
  },
  {
   "cell_type": "code",
   "execution_count": null,
   "id": "e776c060",
   "metadata": {},
   "outputs": [],
   "source": [
    "def user_prompt_for(python):\n",
    "    user_prompt = \"Rewrite this python code in C++ with the fastest possible implementation that produces identical output in the least time. Respond on;y with C++ code; do not explain your work other than a few comments. Pay attention to number types to ensure no int overflows. Remember to #include all necessary C++ packages such as iomanip.\\n\\n\"\n",
    "    user_prompt += python\n",
    "    return user_prompt"
   ]
  },
  {
   "cell_type": "code",
   "execution_count": null,
   "id": "0e144c6f",
   "metadata": {},
   "outputs": [],
   "source": [
    "def message_for(python):\n",
    "    return [\n",
    "        {\"role\": \"system\", \"content\": system_message},\n",
    "        {\"role\": \"user\", \"content\": user_prompt_for(python)}\n",
    "    ]"
   ]
  },
  {
   "cell_type": "code",
   "execution_count": null,
   "id": "e7ea768c",
   "metadata": {},
   "outputs": [],
   "source": [
    "# write to a file called optimized.cpp\n",
    "def write_output(cpp):\n",
    "    code = cpp.replace(\"```cpp\", \"\").replace(\"```\", \"\")\n",
    "    with open(\"optimized.cpp\", \"w\") as f:\n",
    "        f.write(cpp)"
   ]
  },
  {
   "cell_type": "code",
   "execution_count": null,
   "id": "541cc8cb",
   "metadata": {},
   "outputs": [],
   "source": [
    "# Quantization Config - this allows us to load the model into memory and use less memory\n",
    "\n",
    "quant_config = BitsAndBytesConfig(\n",
    "    load_in_4bit=True,\n",
    "    bnb_4bit_use_double_quant=True,\n",
    "    bnb_4bit_compute_dtype=torch.bfloat16,\n",
    "    bnb_4bit_quant_type=\"nf4\"\n",
    ")"
   ]
  },
  {
   "cell_type": "code",
   "execution_count": null,
   "id": "088cbdb2",
   "metadata": {},
   "outputs": [],
   "source": [
    "from transformers import StoppingCriteria\n",
    "\n",
    "class EarlyStoppingCriteria(StoppingCriteria):\n",
    "    def __init__(self, tokenizer):\n",
    "        self.tokenizer = tokenizer\n",
    "        self.completion_indicators = [\n",
    "            tokenizer.encode(\"return 0;\", add_special_tokens=False),\n",
    "            tokenizer.encode(\"}\", add_special_tokens=False),\n",
    "        ]\n",
    "    \n",
    "    def __call__(self, input_ids, scores, **kwargs):\n",
    "        # Check last few tokens for completion patterns\n",
    "        last_tokens = input_ids[0][-10:].tolist()\n",
    "        \n",
    "        for indicator in self.completion_indicators:\n",
    "            if len(indicator) <= len(last_tokens):\n",
    "                if last_tokens[-len(indicator):] == indicator:\n",
    "                    return True\n",
    "        return False\n",
    "\n",
    "# Add to generation_kwargs\n"
   ]
  },
  {
   "cell_type": "code",
   "execution_count": null,
   "id": "ac5e2462",
   "metadata": {},
   "outputs": [],
   "source": [
    "from transformers.generation.streamers import TextIteratorStreamer\n",
    "import threading\n",
    "import torch\n",
    "import gc\n",
    "\n",
    "def optimize_starcoder(python):\n",
    "    print(f\"Using model: {model_name}\")\n",
    "    \n",
    "    # Load tokenizer\n",
    "    tokenizer = AutoTokenizer.from_pretrained(model_name, padding_side=\"left\")\n",
    "    tokenizer.pad_token = tokenizer.eos_token\n",
    "\n",
    "    # Create optimized prompt for StarCoder2\n",
    "    prompt = f\"{system_message}\\n\\nRewrite this Python code in high-performance C++:\\n\\n{python}\\n\\n// C++ implementation:\\n\"\n",
    "\n",
    "    # Tokenize input\n",
    "    inputs = tokenizer(\n",
    "        prompt,\n",
    "        return_tensors=\"pt\",\n",
    "        padding=True,\n",
    "        return_attention_mask=True\n",
    "    ).to(\"cuda\")\n",
    "\n",
    "    attention_mask = (inputs.input_ids != tokenizer.pad_token_id).int().to(\"cuda\")\n",
    "\n",
    "    # Initialize streamer\n",
    "    streamer = TextIteratorStreamer(tokenizer, skip_prompt=True, skip_special_tokens=True)\n",
    "\n",
    "    # Load model\n",
    "    model = AutoModelForCausalLM.from_pretrained(\n",
    "        model_name,\n",
    "        device_map=\"cuda\",\n",
    "        quantization_config=quant_config,\n",
    "        torch_dtype=torch.float16,\n",
    "    )\n",
    "\n",
    "    # Generation parameters\n",
    "    generation_kwargs = {\n",
    "        \"input_ids\": inputs.input_ids,\n",
    "        \"attention_mask\": attention_mask,\n",
    "        \"max_new_tokens\": 512,\n",
    "        \"pad_token_id\": tokenizer.pad_token_id,\n",
    "        \"eos_token_id\": tokenizer.eos_token_id,\n",
    "        \"streamer\": streamer,\n",
    "        \"do_sample\": False,  # More deterministic for code\n",
    "        \"temperature\": 0.1,   # Lower temperature for focused output\n",
    "        \"top_p\": 0.95,\n",
    "    }\n",
    "\n",
    "    # Start generation in separate thread\n",
    "    thread = threading.Thread(target=model.generate, kwargs=generation_kwargs)\n",
    "    thread.start()\n",
    "\n",
    "    # Process streamed output\n",
    "    reply = \"\"\n",
    "    last_check_length = 0\n",
    "    \n",
    "    print(\"Generated C++ code:\")\n",
    "    print(\"-\" * 50)\n",
    "    \n",
    "    for text in streamer:\n",
    "        print(text, end=\"\", flush=True)\n",
    "        reply += text\n",
    "        \n",
    "        # Check for completion every 75 characters\n",
    "        if len(reply) - last_check_length > 75:\n",
    "            last_check_length = len(reply)\n",
    "            \n",
    "            # Look for complete program indicators\n",
    "            has_includes = \"#include\" in reply\n",
    "            has_main = \"int main(\" in reply or \"int main()\" in reply\n",
    "            has_return = \"return 0;\" in reply\n",
    "            \n",
    "            # Count braces for balance\n",
    "            open_braces = reply.count(\"{\")\n",
    "            close_braces = reply.count(\"}\")\n",
    "            \n",
    "            # More conservative stopping conditions\n",
    "            if has_includes and has_main and has_return:\n",
    "                if open_braces > 0 and open_braces == close_braces:\n",
    "                    if len(reply) > 200:  # Ensure substantial code\n",
    "                        print(\"\\n\" + \"-\" * 50)\n",
    "                        print(\"[Stopping: Complete C++ program detected]\")\n",
    "                        break\n",
    "    \n",
    "    # Wait for generation to complete\n",
    "    thread.join()\n",
    "    \n",
    "    # Clean the generated code and write to file\n",
    "    cleaned_reply = reply.replace(\"```cpp\", \"\").replace(\"```\", \"\").strip()\n",
    "    write_output(cleaned_reply)\n",
    "    \n",
    "    print(f\"\\nGenerated {len(cleaned_reply)} characters\")\n",
    "    print(\"Code saved to optimized.cpp\")\n",
    "    \n",
    "    # Cleanup\n",
    "    del model, tokenizer, streamer, inputs, attention_mask\n",
    "    torch.cuda.empty_cache()\n",
    "    gc.collect()\n",
    "    \n",
    "    return cleaned_reply"
   ]
  },
  {
   "cell_type": "code",
   "execution_count": null,
   "id": "0cbd861d",
   "metadata": {},
   "outputs": [],
   "source": [
    "pi = \"\"\"\n",
    "import time\n",
    "\n",
    "def calculate(iterations, param1, param2):\n",
    "    result = 1.0\n",
    "    for i in range(1, iterations+1):\n",
    "        j = i * param1 - param2\n",
    "        result -= (1/j)\n",
    "        j = i * param1 + param2\n",
    "        result += (1/j)\n",
    "    return result\n",
    "\n",
    "start_time = time.time()\n",
    "result = calculate(100_000_000, 4, 1) * 4\n",
    "end_time = time.time()\n",
    "\n",
    "print(f\"Result: {result:.12f}\")\n",
    "print(f\"Execution Time: {(end_time - start_time):.6f} seconds\")\n",
    "\"\"\""
   ]
  },
  {
   "cell_type": "code",
   "execution_count": null,
   "id": "96362c69",
   "metadata": {},
   "outputs": [],
   "source": [
    "exec(pi)"
   ]
  },
  {
   "cell_type": "code",
   "execution_count": null,
   "id": "f5b26f67",
   "metadata": {},
   "outputs": [],
   "source": [
    "optimize_starcoder(pi)"
   ]
  },
  {
   "cell_type": "code",
   "execution_count": null,
   "id": "08ed3c3c",
   "metadata": {},
   "outputs": [],
   "source": [
    "!g++ -O3 -std=c++17 -march=native -o optimized.exe optimized.cpp\n",
    "!optimized.exe"
   ]
  },
  {
   "cell_type": "code",
   "execution_count": null,
   "id": "691cfd42",
   "metadata": {},
   "outputs": [],
   "source": []
  },
  {
   "cell_type": "code",
   "execution_count": null,
   "id": "21ee411c",
   "metadata": {},
   "outputs": [],
   "source": [
    "import gradio as gr\n",
    "\n",
    "def gen_prompt(python):\n",
    "    return f\"{system_message}\\n\\nRewrite this Python code in high-performance C++:\\n\\n{python}\\n\\n// C++ implementation:\\n\"\n",
    "\n",
    "with gr.Blocks() as ui:\n",
    "    with gr.Row():\n",
    "        python_code = gr.Textbox(label=\"Python code: \", lines=10, value=pi)\n",
    "        cpp = gr.Textbox(label=\"C++ code:\", lines=10)\n",
    "    with gr.Row():\n",
    "        model = gr.Dropdown([model_name], label=\"Select model\", value=model_name)\n",
    "        convert = gr.Button(\"Convert code\")\n",
    "\n",
    "    convert.click(optimize_starcoder, inputs=[python_code], outputs=[cpp])\n",
    "\n",
    "ui.launch(inbrowser=True)"
   ]
  },
  {
   "cell_type": "code",
   "execution_count": null,
   "id": "f83c4349",
   "metadata": {},
   "outputs": [],
   "source": []
  },
  {
   "cell_type": "code",
   "execution_count": null,
   "id": "15dbf8f2",
   "metadata": {},
   "outputs": [],
   "source": []
  },
  {
   "cell_type": "code",
   "execution_count": null,
   "id": "0b229d5a",
   "metadata": {},
   "outputs": [],
   "source": []
  }
 ],
 "metadata": {
  "kernelspec": {
   "display_name": ".venv",
   "language": "python",
   "name": "python3"
  },
  "language_info": {
   "codemirror_mode": {
    "name": "ipython",
    "version": 3
   },
   "file_extension": ".py",
   "mimetype": "text/x-python",
   "name": "python",
   "nbconvert_exporter": "python",
   "pygments_lexer": "ipython3",
   "version": "3.13.3"
  }
 },
 "nbformat": 4,
 "nbformat_minor": 5
}
