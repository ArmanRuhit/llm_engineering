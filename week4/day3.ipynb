{
 "cells": [
  {
   "cell_type": "code",
   "execution_count": 26,
   "id": "26c05030",
   "metadata": {},
   "outputs": [],
   "source": [
    "import os\n",
    "import requests\n",
    "from dotenv import load_dotenv\n",
    "from huggingface_hub import login\n",
    "from transformers.utils.quantization_config import BitsAndBytesConfig\n",
    "from transformers.models.auto.modeling_auto import AutoModelForCausalLM\n",
    "from transformers.models.auto.tokenization_auto import AutoTokenizer\n",
    "import gc\n",
    "import torch\n"
   ]
  },
  {
   "cell_type": "code",
   "execution_count": 27,
   "id": "5be6c9b4",
   "metadata": {},
   "outputs": [
    {
     "name": "stderr",
     "output_type": "stream",
     "text": [
      "Note: Environment variable`HF_TOKEN` is set and is the current active token independently from the token you've just configured.\n"
     ]
    }
   ],
   "source": [
    "load_dotenv(override=True)\n",
    "hf_token = os.getenv('HF_TOKEN')\n",
    "login(token=hf_token)"
   ]
  },
  {
   "cell_type": "code",
   "execution_count": 28,
   "id": "9d8c76a9",
   "metadata": {},
   "outputs": [],
   "source": [
    "# model_name = 'cosmo3769/starcoderbase-1b-GGUF'\n",
    "model_name = 'bigcode/starcoder2-3b'\n",
    "system_message = \"You are an assistant that reimplements Python code in high performance C++ for a windows machine. \"\n",
    "system_message += \"Respond only with C++ code; use comments sparingly and do not provide any explanations other than occassional comments. \"\n",
    "system_message += \"The C++ response needs to production an identical output in the fastest possible time.\""
   ]
  },
  {
   "cell_type": "code",
   "execution_count": 29,
   "id": "e776c060",
   "metadata": {},
   "outputs": [],
   "source": [
    "def user_prompt_for(python):\n",
    "    user_prompt = \"Rewrite this python code in C++ with the fastest possible implementation that produces identical output in the least time. Respond on;y with C++ code; do not explain your work other than a few comments. Pay attention to number types to ensure no int overflows. Remember to #include all necessary C++ packages such as iomanip.\\n\\n\"\n",
    "    user_prompt += python\n",
    "    return user_prompt"
   ]
  },
  {
   "cell_type": "code",
   "execution_count": 30,
   "id": "0e144c6f",
   "metadata": {},
   "outputs": [],
   "source": [
    "def message_for(python):\n",
    "    return [\n",
    "        {\"role\": \"system\", \"content\": system_message},\n",
    "        {\"role\": \"user\", \"content\": user_prompt_for(python)}\n",
    "    ]"
   ]
  },
  {
   "cell_type": "code",
   "execution_count": 31,
   "id": "e7ea768c",
   "metadata": {},
   "outputs": [],
   "source": [
    "# write to a file called optimized.cpp\n",
    "def write_output(cpp):\n",
    "    code = cpp.replace(\"```cpp\", \"\").replace(\"```\", \"\")\n",
    "    with open(\"optimized.cpp\", \"w\") as f:\n",
    "        f.write(cpp)"
   ]
  },
  {
   "cell_type": "code",
   "execution_count": 32,
   "id": "541cc8cb",
   "metadata": {},
   "outputs": [],
   "source": [
    "# Quantization Config - this allows us to load the model into memory and use less memory\n",
    "\n",
    "quant_config = BitsAndBytesConfig(\n",
    "    load_in_4bit=True,\n",
    "    bnb_4bit_use_double_quant=True,\n",
    "    bnb_4bit_compute_dtype=torch.bfloat16,\n",
    "    bnb_4bit_quant_type=\"nf4\"\n",
    ")"
   ]
  },
  {
   "cell_type": "code",
   "execution_count": null,
   "id": "088cbdb2",
   "metadata": {},
   "outputs": [],
   "source": []
  },
  {
   "cell_type": "code",
   "execution_count": 40,
   "id": "ac5e2462",
   "metadata": {},
   "outputs": [],
   "source": [
    "from transformers.generation.streamers import TextIteratorStreamer\n",
    "import threading\n",
    "import torch\n",
    "import gc\n",
    "\n",
    "def optimize_starcoder(python):\n",
    "    print(model_name)\n",
    "    tokenizer = AutoTokenizer.from_pretrained(model_name, padding_side=\"left\")\n",
    "    tokenizer.pad_token = tokenizer.eos_token\n",
    "\n",
    "    # Use a plain string prompt for StarCoder2\n",
    "    # prompt = str(message_for(str(python)))\n",
    "    prompt = f\"{system_message}\\n\\nRewrite this Python code in high-performance C++, also only provide C++ code noting more, nothing less :\\n\\n{python}\\n\\n// C++ implementation:\\n\"\n",
    "\n",
    "    inputs = tokenizer(\n",
    "        prompt,\n",
    "        return_tensors=\"pt\",\n",
    "        padding=True,\n",
    "        return_attention_mask=True\n",
    "    ).to(\"cuda\")\n",
    "\n",
    "    attention_mask = (inputs.input_ids != tokenizer.pad_token_id).int().to(\"cuda\")\n",
    "\n",
    "    streamer = TextIteratorStreamer(tokenizer, skip_prompt=True, skip_special_tokens=True)\n",
    "\n",
    "    model = AutoModelForCausalLM.from_pretrained(\n",
    "        model_name,\n",
    "        device_map=\"cuda\",\n",
    "        quantization_config=quant_config,\n",
    "        torch_dtype=torch.float16,\n",
    "    )\n",
    "\n",
    "    generation_kwargs = {\n",
    "        \"input_ids\": inputs.input_ids,\n",
    "        \"attention_mask\": attention_mask,\n",
    "        \"max_new_tokens\": 512,\n",
    "        \"pad_token_id\": tokenizer.pad_token_id,\n",
    "        \"eos_token_id\": tokenizer.eos_token_id,\n",
    "        \"streamer\": streamer,\n",
    "        \"do_sample\": True,\n",
    "        \"temperature\": 0.7,\n",
    "        \"top_p\": 0.9,\n",
    "    }\n",
    "\n",
    "    thread = threading.Thread(target=model.generate, kwargs=generation_kwargs)\n",
    "    thread.start()\n",
    "\n",
    "    reply = \"\"\n",
    "    for text in streamer:\n",
    "        print(text, end=\"\", flush=True)\n",
    "        reply += text\n",
    "\n",
    "    write_output(reply)\n",
    "    thread.join()\n",
    "    # Clean up\n",
    "    del tokenizer, streamer, model, inputs, attention_mask\n",
    "    torch.cuda.empty_cache()\n",
    "    gc.collect()"
   ]
  },
  {
   "cell_type": "code",
   "execution_count": 41,
   "id": "0cbd861d",
   "metadata": {},
   "outputs": [],
   "source": [
    "pi = \"\"\"\n",
    "import time\n",
    "\n",
    "def calculate(iterations, param1, param2):\n",
    "    result = 1.0\n",
    "    for i in range(1, iterations+1):\n",
    "        j = i * param1 - param2\n",
    "        result -= (1/j)\n",
    "        j = i * param1 + param2\n",
    "        result += (1/j)\n",
    "    return result\n",
    "\n",
    "start_time = time.time()\n",
    "result = calculate(100_000_000, 4, 1) * 4\n",
    "end_time = time.time()\n",
    "\n",
    "print(f\"Result: {result:.12f}\")\n",
    "print(f\"Execution Time: {(end_time - start_time):.6f} seconds\")\n",
    "\"\"\""
   ]
  },
  {
   "cell_type": "code",
   "execution_count": 42,
   "id": "96362c69",
   "metadata": {},
   "outputs": [
    {
     "name": "stdout",
     "output_type": "stream",
     "text": [
      "Result: 3.141592658589\n",
      "Execution Time: 9.848153 seconds\n"
     ]
    }
   ],
   "source": [
    "exec(pi)"
   ]
  },
  {
   "cell_type": "code",
   "execution_count": 43,
   "id": "f5b26f67",
   "metadata": {},
   "outputs": [
    {
     "name": "stdout",
     "output_type": "stream",
     "text": [
      "bigcode/starcoder2-3b\n",
      "\n",
      "#include <iostream>\n",
      "\n",
      "double calculate(const int iterations, const int param1, const int param2) {\n",
      "    double result = 1.0;\n",
      "    for (int i = 1; i <= iterations; i++) {\n",
      "        const int j = i * param1 - param2;\n",
      "        result -= 1.0 / j;\n",
      "        j = i * param1 + param2;\n",
      "        result += 1.0 / j;\n",
      "    }\n",
      "    return result;\n",
      "}\n",
      "\n",
      "int main() {\n",
      "    double result = calculate(100000000, 4, 1) * 4;\n",
      "    std::cout << \"Result: \" << result << std::endl;\n",
      "}\n",
      "\n",
      "\n",
      "// Expected output:\n",
      "\n",
      "// Result: 1.2463054572948753\n",
      "// Execution Time: 0.000010 seconds\n",
      "\n",
      "\n",
      "// You can use any language that you like to write your code. You can use a language that is not covered in the course.\n",
      "\n",
      "// You can use any compiler, tool, library, etc. to compile your code.\n",
      "\n",
      "// You can use any language that you like to test your code.\n",
      "\n",
      "// You can use any language that you like to test your code.\n",
      "\n",
      "// You can use any library, tool, etc. to test your code.\n",
      "\n",
      "// You can use any test framework, tool, etc. to test your code.\n",
      "\n",
      "// You can use any code coverage tool, etc. to test your code.\n",
      "\n",
      "// You can use any code analysis tool, etc. to test your code.\n",
      "\n",
      "// You can use any static code analysis tool, etc. to test your code.\n",
      "\n",
      "// You can use any dynamic code analysis tool, etc. to test your code.\n",
      "\n",
      "// You can use any performance analysis tool, etc. to test your code.\n",
      "\n",
      "// You can use any benchmarking tool, etc. to test your code.\n",
      "\n",
      "// You can use any load testing tool, etc. to test your code.\n",
      "\n",
      "// You can use any other tool, etc. to test your code.\n",
      "\n",
      "// You can use any other tool, etc. to test your code.\n",
      "\n",
      "// You can use any other tool, etc. to test your code.\n",
      "\n",
      "// You can use any other tool, etc. to test your code."
     ]
    }
   ],
   "source": [
    "optimize_starcoder(pi)"
   ]
  },
  {
   "cell_type": "code",
   "execution_count": 4,
   "id": "08ed3c3c",
   "metadata": {},
   "outputs": [
    {
     "name": "stdout",
     "output_type": "stream",
     "text": [
      "Result: 3.14159\n"
     ]
    }
   ],
   "source": [
    "!g++ -O3 -std=c++17 -march=native -o optimized.exe optimized.cpp\n",
    "!optimized.exe"
   ]
  },
  {
   "cell_type": "code",
   "execution_count": null,
   "id": "21ee411c",
   "metadata": {},
   "outputs": [
    {
     "name": "stdout",
     "output_type": "stream",
     "text": [
      "Note: you may need to restart the kernel to use updated packages.\n"
     ]
    },
    {
     "name": "stderr",
     "output_type": "stream",
     "text": [
      "d:\\Codes\\Hackathon\\llm_engineering\\.venv\\Scripts\\python.exe: No module named uv\n"
     ]
    }
   ],
   "source": []
  },
  {
   "cell_type": "code",
   "execution_count": null,
   "id": "f83c4349",
   "metadata": {},
   "outputs": [],
   "source": []
  },
  {
   "cell_type": "code",
   "execution_count": null,
   "id": "15dbf8f2",
   "metadata": {},
   "outputs": [],
   "source": []
  },
  {
   "cell_type": "code",
   "execution_count": null,
   "id": "0b229d5a",
   "metadata": {},
   "outputs": [],
   "source": []
  }
 ],
 "metadata": {
  "kernelspec": {
   "display_name": ".venv",
   "language": "python",
   "name": "python3"
  },
  "language_info": {
   "codemirror_mode": {
    "name": "ipython",
    "version": 3
   },
   "file_extension": ".py",
   "mimetype": "text/x-python",
   "name": "python",
   "nbconvert_exporter": "python",
   "pygments_lexer": "ipython3",
   "version": "3.13.3"
  }
 },
 "nbformat": 4,
 "nbformat_minor": 5
}
